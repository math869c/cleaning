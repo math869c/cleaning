{
 "cells": [
  {
   "cell_type": "code",
   "execution_count": null,
   "metadata": {},
   "outputs": [],
   "source": [
    "from ics import Calendar, Event\n",
    "import datetime\n",
    "\n",
    "name_dict = {\n",
    "    'Johanne': 659,\n",
    "    'Mathias': 658,\n",
    "    'Søren': 657,\n",
    "    'Andreas': 656,\n",
    "    'Ema': 655,\n",
    "    'Mirei': 654,\n",
    "    'Sofie': 653,\n",
    "    'Markus': 652,\n",
    "    'Anso': 651,\n",
    "    'Malou': 650,\n",
    "    'Matilde': 649,\n",
    "    'Asger': 649 \n",
    "}\n",
    "\n",
    "start_time = datetime.datetime(2025, 2, 24, 0, 0)\n",
    "end_time = start_time + datetime.timedelta(days=6, hours=23, minutes=59)\n",
    "rooms = list(name_dict.values())\n",
    "names = list(name_dict.keys())\n",
    "\n",
    "week = 1\n",
    "event_start = start_time\n",
    "event_end = end_time\n",
    "calendar = Calendar()\n",
    "oven_cleaner_idx = 0  # Store the last oven cleaner assignment\n",
    "\n",
    "oven_cleaner = 0  # Initialize oven_cleaner to avoid referencing before assignment\n",
    "\n",
    "person_1_list = []\n",
    "person_2_list = []\n",
    "oven_cleaner_list = []\n",
    "\n",
    "while week < 21:\n",
    "    person_1 = week % len(rooms)\n",
    "    person_2 = (week + 6) % len(rooms)\n",
    "    person_1_list.append(names[person_1])\n",
    "    person_2_list.append(names[person_2])\n",
    "\n",
    "    # Assign oven cleaner only on odd weeks\n",
    "    if week % 2 == 1:\n",
    "        oven_cleaner = (oven_cleaner_idx + 10) % len(rooms)  # Only update every second week\n",
    "        oven_cleaner_idx += 1\n",
    "        oven_cleaner_list.append(names[oven_cleaner])\n",
    "\n",
    "    the_description = f'Main cleaner: {names[person_1]}, Secondary cleaner: {names[person_2]}, Oven cleaner: {names[oven_cleaner]}'\n",
    "\n",
    "    event_start = start_time + datetime.timedelta(weeks=week)\n",
    "    event_end = event_start + datetime.timedelta(days=6, hours=23, minutes=59)\n",
    "    event = Event()\n",
    "    event.name = \"Weekly cleaning team\"\n",
    "    event.description = the_description\n",
    "    event.begin = event_start\n",
    "    event.end = event_end\n",
    "\n",
    "    calendar.events.add(event)\n",
    "    week += 1  # Increment normally, but oven cleaner only updates every second time\n",
    "\n",
    "ics_filename = \"weekly_events.ics\"\n",
    "with open(ics_filename, 'w') as f:\n",
    "    f.writelines(calendar)\n"
   ]
  },
  {
   "cell_type": "code",
   "execution_count": 13,
   "metadata": {},
   "outputs": [
    {
     "data": {
      "text/plain": [
       "['Mathias',\n",
       " 'Søren',\n",
       " 'Andreas',\n",
       " 'Ema',\n",
       " 'Mirei',\n",
       " 'Sofie',\n",
       " 'Markus',\n",
       " 'Anso',\n",
       " 'Malou',\n",
       " 'Matilde',\n",
       " 'Asger',\n",
       " 'Johanne',\n",
       " 'Mathias',\n",
       " 'Søren',\n",
       " 'Andreas',\n",
       " 'Ema',\n",
       " 'Mirei',\n",
       " 'Sofie',\n",
       " 'Markus',\n",
       " 'Anso']"
      ]
     },
     "execution_count": 13,
     "metadata": {},
     "output_type": "execute_result"
    }
   ],
   "source": [
    "person_1_list"
   ]
  },
  {
   "cell_type": "code",
   "execution_count": 15,
   "metadata": {},
   "outputs": [
    {
     "data": {
      "text/plain": [
       "['Markus',\n",
       " 'Anso',\n",
       " 'Malou',\n",
       " 'Matilde',\n",
       " 'Asger',\n",
       " 'Johanne',\n",
       " 'Mathias',\n",
       " 'Søren',\n",
       " 'Andreas',\n",
       " 'Ema',\n",
       " 'Mirei',\n",
       " 'Sofie',\n",
       " 'Markus',\n",
       " 'Anso',\n",
       " 'Malou',\n",
       " 'Matilde',\n",
       " 'Asger',\n",
       " 'Johanne',\n",
       " 'Mathias',\n",
       " 'Søren']"
      ]
     },
     "execution_count": 15,
     "metadata": {},
     "output_type": "execute_result"
    }
   ],
   "source": [
    "person_2_list"
   ]
  },
  {
   "cell_type": "code",
   "execution_count": 14,
   "metadata": {},
   "outputs": [
    {
     "data": {
      "text/plain": [
       "['Matilde',\n",
       " 'Asger',\n",
       " 'Johanne',\n",
       " 'Mathias',\n",
       " 'Søren',\n",
       " 'Andreas',\n",
       " 'Ema',\n",
       " 'Mirei',\n",
       " 'Sofie',\n",
       " 'Markus']"
      ]
     },
     "execution_count": 14,
     "metadata": {},
     "output_type": "execute_result"
    }
   ],
   "source": [
    "oven_cleaner_list"
   ]
  },
  {
   "cell_type": "code",
   "execution_count": 5,
   "metadata": {},
   "outputs": [
    {
     "data": {
      "text/plain": [
       "{'Johanne': 659,\n",
       " 'Mathias': 658,\n",
       " 'Søren': 657,\n",
       " 'Andreas': 656,\n",
       " 'Ema': 655,\n",
       " 'Mirei': 654,\n",
       " 'Sofie': 653,\n",
       " 'Markus': 652,\n",
       " 'Anso': 651,\n",
       " 'Malou': 650,\n",
       " 'Matilde': 649,\n",
       " 'Asger': 649}"
      ]
     },
     "execution_count": 5,
     "metadata": {},
     "output_type": "execute_result"
    }
   ],
   "source": [
    "name_dict"
   ]
  },
  {
   "cell_type": "code",
   "execution_count": null,
   "metadata": {},
   "outputs": [],
   "source": [
    "https://math869c.github.io/cleaning/weekly_events.ics"
   ]
  }
 ],
 "metadata": {
  "kernelspec": {
   "display_name": "Python 3",
   "language": "python",
   "name": "python3"
  },
  "language_info": {
   "codemirror_mode": {
    "name": "ipython",
    "version": 3
   },
   "file_extension": ".py",
   "mimetype": "text/x-python",
   "name": "python",
   "nbconvert_exporter": "python",
   "pygments_lexer": "ipython3",
   "version": "3.10.2"
  }
 },
 "nbformat": 4,
 "nbformat_minor": 2
}
