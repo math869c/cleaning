{
 "cells": [
  {
   "cell_type": "code",
   "execution_count": 16,
   "metadata": {},
   "outputs": [
    {
     "name": "stdout",
     "output_type": "stream",
     "text": [
      "✅ Authentication successful! Token has user account access.\n"
     ]
    },
    {
     "ename": "AttributeError",
     "evalue": "'Dropbox' object has no attribute 'team_get_info'",
     "output_type": "error",
     "traceback": [
      "\u001b[0;31m---------------------------------------------------------------------------\u001b[0m",
      "\u001b[0;31mAttributeError\u001b[0m                            Traceback (most recent call last)",
      "Cell \u001b[0;32mIn [16], line 15\u001b[0m\n\u001b[1;32m     13\u001b[0m \u001b[38;5;66;03m# Try accessing team information (will fail if the token lacks team permissions)\u001b[39;00m\n\u001b[1;32m     14\u001b[0m \u001b[38;5;28;01mtry\u001b[39;00m:\n\u001b[0;32m---> 15\u001b[0m     team_info \u001b[38;5;241m=\u001b[39m \u001b[43mdbx\u001b[49m\u001b[38;5;241;43m.\u001b[39;49m\u001b[43mteam_get_info\u001b[49m()\n\u001b[1;32m     16\u001b[0m     \u001b[38;5;28mprint\u001b[39m(\u001b[38;5;124m\"\u001b[39m\u001b[38;5;124m✅ Token has team-level access.\u001b[39m\u001b[38;5;124m\"\u001b[39m)\n\u001b[1;32m     17\u001b[0m \u001b[38;5;28;01mexcept\u001b[39;00m dropbox\u001b[38;5;241m.\u001b[39mexceptions\u001b[38;5;241m.\u001b[39mAuthError:\n",
      "\u001b[0;31mAttributeError\u001b[0m: 'Dropbox' object has no attribute 'team_get_info'"
     ]
    }
   ],
   "source": [
    "import dropbox\n",
    "\n",
    "DROPBOX_ACCESS_TOKEN = \"sl.u.AFkXInj6OidPAMXvuTVc1ACpYo9207_fTMLYg-nGIKIxADmOSWAIYRYYY4U-at2lLw42wNOgcUMfxi0xOcTnYeE7jHtKyoAJNjgtC8ZClvGctK8gnqHstl5oEISKSpZ87BZXdylAj2RT6cSRNvEvSqK7WLEHmj3UuuhKrwluLZgE4W92a8ZPO-uAhx52j673b1_1h88ZmJi0CFPVJNwKmQf4KIkYWvcn0WaHLhO3wCcUl8r-JeTRBCyUYp1oKIE5dOm54UC8EX_usyaoj02LEB2s7lOz6VEkyfTOKs-TnxZ0s_dyVgepdivQUY-hd9qyf-MRfkzGQ5heUqUYUP91iaKOWlOB7cBlfPqqqXiAS1QVzxyT0vs2VKNwDjk8YTZuBN8iwmJ1luJbBK1p_viN36ujPIrVwBLQHqItczszizrgCjgZtnHz2dsgv5009cbkAf7-cCOEb6jqEKKGIATb-c1yifmLOE5SlxYFBhLM4nl9YiieYAsJfN0asSiQjBuLkQdgTWXvsZhnlwWqviuremoJrpGDCiw4NcALe7jqAHcJITDs3qjtT-8Iv41Glo4fydRKuhdB82dCgk-CwgLHQzPxn1BN9LkSO0s_Pbiq8hJtbiF4zcRKV4H4YzX3qX0HWz3RQlj6dO7DCiHTDKk9GWhjcB_ZT6sunUPEq567ssK67eYiiEe5kIen1RXsJPrMDTg8Oj9YmG3emuvI4Z1i1xmYW4KG6xRxgch-VtDOAtyMT_gA-riH7Su_r_-vJpTM_jyLZ3HcuWBidVJnFvY7UmL_WjzBq11ZPcM544m2RYDo2H2pZd_suWboDeVkcm6PnJiab2UYJuGHwi2DDg4H0Grquq0mEBetYSH3bqVMcGRDSqfDeYZsHQehqCQoZwoyzbzWWUcIMt0NMLq7it1coJzS88iLfgg5hHS1r9urxjqxyh2_u9cGNvnhojBbffkDaKeO5tFsdct1iSnok4L7Kr_-JJty97lBVHe-wbtFZxMVl0QcuLzF_QyAnjD-yeIAelAyxOBq-BefZpl-JvLVyUGI2vpLc7GfqfPsNIQoFs2tvVsFA7gmdDpL7UZEnEnB1ykvbgyfv-4aqG-_MAg6kEawPexfHtrTXTvUn0z_LaLfuMym0QOjXB3RQ5hayp_3lym8LoKm_feoQBvD4UiAaQWydqmZR4Rrdw0saKt_R3sW2TlgjUILuNL6enz--uv1vIANg6-4bcCvcLCtBntHGNmGuMcvbHx_fjIoR7qi2m5uvzzELUoWbAL30JJkoVRcv60X8FYj_jo6qVGjbRrpBkJV\"\n",
    "\n",
    "# Initialize Dropbox client\n",
    "dbx = dropbox.Dropbox(DROPBOX_ACCESS_TOKEN)\n",
    "\n",
    "try:\n",
    "    # Verify basic access by retrieving user account details\n",
    "    account_info = dbx.users_get_current_account()\n",
    "    print(\"✅ Authentication successful! Token has user account access.\")\n",
    "\n",
    "    # Try accessing team information (will fail if the token lacks team permissions)\n",
    "    try:\n",
    "        team_info = dbx.team_get_info()\n",
    "        print(\"✅ Token has team-level access.\")\n",
    "    except dropbox.exceptions.AuthError:\n",
    "        print(\"⚠️ Token does not have team-level access.\")\n",
    "\n",
    "    # Try listing files to check if the token has file access\n",
    "    try:\n",
    "        files = dbx.files_list_folder(\"\")\n",
    "        print(\"✅ Token has file access.\")\n",
    "    except dropbox.exceptions.AuthError:\n",
    "        print(\"⚠️ Token does not have file access.\")\n",
    "\n",
    "except dropbox.exceptions.AuthError as e:\n",
    "    print(\"❌ Authentication failed!\", e)"
   ]
  },
  {
   "cell_type": "code",
   "execution_count": null,
   "metadata": {},
   "outputs": [],
   "source": []
  },
  {
   "cell_type": "code",
   "execution_count": null,
   "metadata": {},
   "outputs": [],
   "source": []
  },
  {
   "cell_type": "code",
   "execution_count": 17,
   "metadata": {},
   "outputs": [
    {
     "ename": "ApiError",
     "evalue": "ApiError('95edfe5220804400890027d48e6cb3bf', UploadError('path', UploadWriteFailed(reason=WriteError('insufficient_space', None), upload_session_id='pid_upload_session:ABII5T_FxwV3kJAzpYeGH0QCTQaXazXzlpj1EcbqjwobtTjJNQ')))",
     "output_type": "error",
     "traceback": [
      "\u001b[0;31m---------------------------------------------------------------------------\u001b[0m",
      "\u001b[0;31mApiError\u001b[0m                                  Traceback (most recent call last)",
      "Cell \u001b[0;32mIn [17], line 21\u001b[0m\n\u001b[1;32m     18\u001b[0m     \u001b[38;5;28mprint\u001b[39m(\u001b[38;5;124m\"\u001b[39m\u001b[38;5;124mPublic URL:\u001b[39m\u001b[38;5;124m\"\u001b[39m, shared_link\u001b[38;5;241m.\u001b[39murl\u001b[38;5;241m.\u001b[39mreplace(\u001b[38;5;124m\"\u001b[39m\u001b[38;5;124m?dl=0\u001b[39m\u001b[38;5;124m\"\u001b[39m, \u001b[38;5;124m\"\u001b[39m\u001b[38;5;124m?raw=1\u001b[39m\u001b[38;5;124m\"\u001b[39m))\n\u001b[1;32m     20\u001b[0m \u001b[38;5;28;01mif\u001b[39;00m \u001b[38;5;18m__name__\u001b[39m \u001b[38;5;241m==\u001b[39m \u001b[38;5;124m\"\u001b[39m\u001b[38;5;124m__main__\u001b[39m\u001b[38;5;124m\"\u001b[39m:\n\u001b[0;32m---> 21\u001b[0m     \u001b[43mupload_to_dropbox\u001b[49m\u001b[43m(\u001b[49m\u001b[43m)\u001b[49m\n",
      "Cell \u001b[0;32mIn [17], line 14\u001b[0m, in \u001b[0;36mupload_to_dropbox\u001b[0;34m()\u001b[0m\n\u001b[1;32m     11\u001b[0m dbx \u001b[38;5;241m=\u001b[39m dropbox\u001b[38;5;241m.\u001b[39mDropbox(DROPBOX_ACCESS_TOKEN)\n\u001b[1;32m     13\u001b[0m \u001b[38;5;28;01mwith\u001b[39;00m \u001b[38;5;28mopen\u001b[39m(FILE_PATH, \u001b[38;5;124m\"\u001b[39m\u001b[38;5;124mrb\u001b[39m\u001b[38;5;124m\"\u001b[39m) \u001b[38;5;28;01mas\u001b[39;00m f:\n\u001b[0;32m---> 14\u001b[0m     \u001b[43mdbx\u001b[49m\u001b[38;5;241;43m.\u001b[39;49m\u001b[43mfiles_upload\u001b[49m\u001b[43m(\u001b[49m\u001b[43mf\u001b[49m\u001b[38;5;241;43m.\u001b[39;49m\u001b[43mread\u001b[49m\u001b[43m(\u001b[49m\u001b[43m)\u001b[49m\u001b[43m,\u001b[49m\u001b[43m \u001b[49m\u001b[43mDROPBOX_PATH\u001b[49m\u001b[43m,\u001b[49m\u001b[43m \u001b[49m\u001b[43mmode\u001b[49m\u001b[38;5;241;43m=\u001b[39;49m\u001b[43mdropbox\u001b[49m\u001b[38;5;241;43m.\u001b[39;49m\u001b[43mfiles\u001b[49m\u001b[38;5;241;43m.\u001b[39;49m\u001b[43mWriteMode\u001b[49m\u001b[43m(\u001b[49m\u001b[38;5;124;43m\"\u001b[39;49m\u001b[38;5;124;43moverwrite\u001b[39;49m\u001b[38;5;124;43m\"\u001b[39;49m\u001b[43m)\u001b[49m\u001b[43m)\u001b[49m\n\u001b[1;32m     16\u001b[0m \u001b[38;5;66;03m# Get the public link\u001b[39;00m\n\u001b[1;32m     17\u001b[0m shared_link \u001b[38;5;241m=\u001b[39m dbx\u001b[38;5;241m.\u001b[39msharing_create_shared_link_with_settings(DROPBOX_PATH)\n",
      "File \u001b[0;32m/Library/Frameworks/Python.framework/Versions/3.10/lib/python3.10/site-packages/dropbox/base.py:3214\u001b[0m, in \u001b[0;36mDropboxBase.files_upload\u001b[0;34m(self, f, path, mode, autorename, client_modified, mute, property_groups, strict_conflict, content_hash)\u001b[0m\n\u001b[1;32m   3182\u001b[0m \u001b[38;5;124;03m\"\"\"\u001b[39;00m\n\u001b[1;32m   3183\u001b[0m \u001b[38;5;124;03mCreate a new file with the contents provided in the request. Do not use\u001b[39;00m\n\u001b[1;32m   3184\u001b[0m \u001b[38;5;124;03mthis to upload a file larger than 150 MB. Instead, create an upload\u001b[39;00m\n\u001b[0;32m   (...)\u001b[0m\n\u001b[1;32m   3204\u001b[0m \u001b[38;5;124;03m    :class:`dropbox.files.UploadError`\u001b[39;00m\n\u001b[1;32m   3205\u001b[0m \u001b[38;5;124;03m\"\"\"\u001b[39;00m\n\u001b[1;32m   3206\u001b[0m arg \u001b[38;5;241m=\u001b[39m files\u001b[38;5;241m.\u001b[39mUploadArg(path,\n\u001b[1;32m   3207\u001b[0m                       mode,\n\u001b[1;32m   3208\u001b[0m                       autorename,\n\u001b[0;32m   (...)\u001b[0m\n\u001b[1;32m   3212\u001b[0m                       strict_conflict,\n\u001b[1;32m   3213\u001b[0m                       content_hash)\n\u001b[0;32m-> 3214\u001b[0m r \u001b[38;5;241m=\u001b[39m \u001b[38;5;28;43mself\u001b[39;49m\u001b[38;5;241;43m.\u001b[39;49m\u001b[43mrequest\u001b[49m\u001b[43m(\u001b[49m\n\u001b[1;32m   3215\u001b[0m \u001b[43m    \u001b[49m\u001b[43mfiles\u001b[49m\u001b[38;5;241;43m.\u001b[39;49m\u001b[43mupload\u001b[49m\u001b[43m,\u001b[49m\n\u001b[1;32m   3216\u001b[0m \u001b[43m    \u001b[49m\u001b[38;5;124;43m'\u001b[39;49m\u001b[38;5;124;43mfiles\u001b[39;49m\u001b[38;5;124;43m'\u001b[39;49m\u001b[43m,\u001b[49m\n\u001b[1;32m   3217\u001b[0m \u001b[43m    \u001b[49m\u001b[43marg\u001b[49m\u001b[43m,\u001b[49m\n\u001b[1;32m   3218\u001b[0m \u001b[43m    \u001b[49m\u001b[43mf\u001b[49m\u001b[43m,\u001b[49m\n\u001b[1;32m   3219\u001b[0m \u001b[43m\u001b[49m\u001b[43m)\u001b[49m\n\u001b[1;32m   3220\u001b[0m \u001b[38;5;28;01mreturn\u001b[39;00m r\n",
      "File \u001b[0;32m/Library/Frameworks/Python.framework/Versions/3.10/lib/python3.10/site-packages/dropbox/dropbox_client.py:351\u001b[0m, in \u001b[0;36m_DropboxTransport.request\u001b[0;34m(self, route, namespace, request_arg, request_binary, timeout)\u001b[0m\n\u001b[1;32m    347\u001b[0m deserialized_result \u001b[38;5;241m=\u001b[39m stone_serializers\u001b[38;5;241m.\u001b[39mjson_compat_obj_decode(\n\u001b[1;32m    348\u001b[0m     returned_data_type, obj, strict\u001b[38;5;241m=\u001b[39m\u001b[38;5;28;01mFalse\u001b[39;00m)\n\u001b[1;32m    350\u001b[0m \u001b[38;5;28;01mif\u001b[39;00m \u001b[38;5;28misinstance\u001b[39m(res, RouteErrorResult):\n\u001b[0;32m--> 351\u001b[0m     \u001b[38;5;28;01mraise\u001b[39;00m ApiError(res\u001b[38;5;241m.\u001b[39mrequest_id,\n\u001b[1;32m    352\u001b[0m                    deserialized_result,\n\u001b[1;32m    353\u001b[0m                    user_message_text,\n\u001b[1;32m    354\u001b[0m                    user_message_locale)\n\u001b[1;32m    355\u001b[0m \u001b[38;5;28;01melif\u001b[39;00m route_style \u001b[38;5;241m==\u001b[39m \u001b[38;5;28mself\u001b[39m\u001b[38;5;241m.\u001b[39m_ROUTE_STYLE_DOWNLOAD:\n\u001b[1;32m    356\u001b[0m     \u001b[38;5;28;01mreturn\u001b[39;00m (deserialized_result, res\u001b[38;5;241m.\u001b[39mhttp_resp)\n",
      "\u001b[0;31mApiError\u001b[0m: ApiError('95edfe5220804400890027d48e6cb3bf', UploadError('path', UploadWriteFailed(reason=WriteError('insufficient_space', None), upload_session_id='pid_upload_session:ABII5T_FxwV3kJAzpYeGH0QCTQaXazXzlpj1EcbqjwobtTjJNQ')))"
     ]
    }
   ],
   "source": [
    "import dropbox\n",
    "import os\n",
    "\n",
    "# Dropbox API Token (Generate it in your Dropbox App settings)\n",
    "DROPBOX_ACCESS_TOKEN = \"sl.u.AFkXInj6OidPAMXvuTVc1ACpYo9207_fTMLYg-nGIKIxADmOSWAIYRYYY4U-at2lLw42wNOgcUMfxi0xOcTnYeE7jHtKyoAJNjgtC8ZClvGctK8gnqHstl5oEISKSpZ87BZXdylAj2RT6cSRNvEvSqK7WLEHmj3UuuhKrwluLZgE4W92a8ZPO-uAhx52j673b1_1h88ZmJi0CFPVJNwKmQf4KIkYWvcn0WaHLhO3wCcUl8r-JeTRBCyUYp1oKIE5dOm54UC8EX_usyaoj02LEB2s7lOz6VEkyfTOKs-TnxZ0s_dyVgepdivQUY-hd9qyf-MRfkzGQ5heUqUYUP91iaKOWlOB7cBlfPqqqXiAS1QVzxyT0vs2VKNwDjk8YTZuBN8iwmJ1luJbBK1p_viN36ujPIrVwBLQHqItczszizrgCjgZtnHz2dsgv5009cbkAf7-cCOEb6jqEKKGIATb-c1yifmLOE5SlxYFBhLM4nl9YiieYAsJfN0asSiQjBuLkQdgTWXvsZhnlwWqviuremoJrpGDCiw4NcALe7jqAHcJITDs3qjtT-8Iv41Glo4fydRKuhdB82dCgk-CwgLHQzPxn1BN9LkSO0s_Pbiq8hJtbiF4zcRKV4H4YzX3qX0HWz3RQlj6dO7DCiHTDKk9GWhjcB_ZT6sunUPEq567ssK67eYiiEe5kIen1RXsJPrMDTg8Oj9YmG3emuvI4Z1i1xmYW4KG6xRxgch-VtDOAtyMT_gA-riH7Su_r_-vJpTM_jyLZ3HcuWBidVJnFvY7UmL_WjzBq11ZPcM544m2RYDo2H2pZd_suWboDeVkcm6PnJiab2UYJuGHwi2DDg4H0Grquq0mEBetYSH3bqVMcGRDSqfDeYZsHQehqCQoZwoyzbzWWUcIMt0NMLq7it1coJzS88iLfgg5hHS1r9urxjqxyh2_u9cGNvnhojBbffkDaKeO5tFsdct1iSnok4L7Kr_-JJty97lBVHe-wbtFZxMVl0QcuLzF_QyAnjD-yeIAelAyxOBq-BefZpl-JvLVyUGI2vpLc7GfqfPsNIQoFs2tvVsFA7gmdDpL7UZEnEnB1ykvbgyfv-4aqG-_MAg6kEawPexfHtrTXTvUn0z_LaLfuMym0QOjXB3RQ5hayp_3lym8LoKm_feoQBvD4UiAaQWydqmZR4Rrdw0saKt_R3sW2TlgjUILuNL6enz--uv1vIANg6-4bcCvcLCtBntHGNmGuMcvbHx_fjIoR7qi2m5uvzzELUoWbAL30JJkoVRcv60X8FYj_jo6qVGjbRrpBkJV\"\n",
    "FILE_PATH = \"weekly_events.ics\"\n",
    "DROPBOX_PATH = \"/weekly_events.ics\"  # File path in Dropbox\n",
    "\n",
    "def upload_to_dropbox():\n",
    "    \"\"\"Uploads the .ics file to Dropbox, replacing the old one.\"\"\"\n",
    "    dbx = dropbox.Dropbox(DROPBOX_ACCESS_TOKEN)\n",
    "    \n",
    "    with open(FILE_PATH, \"rb\") as f:\n",
    "        dbx.files_upload(f.read(), DROPBOX_PATH, mode=dropbox.files.WriteMode(\"overwrite\"))\n",
    "    \n",
    "    # Get the public link\n",
    "    shared_link = dbx.sharing_create_shared_link_with_settings(DROPBOX_PATH)\n",
    "    print(\"Public URL:\", shared_link.url.replace(\"?dl=0\", \"?raw=1\"))\n",
    "\n",
    "if __name__ == \"__main__\":\n",
    "    upload_to_dropbox()\n"
   ]
  },
  {
   "cell_type": "code",
   "execution_count": null,
   "metadata": {},
   "outputs": [],
   "source": []
  },
  {
   "cell_type": "code",
   "execution_count": null,
   "metadata": {},
   "outputs": [],
   "source": []
  },
  {
   "cell_type": "code",
   "execution_count": null,
   "metadata": {},
   "outputs": [],
   "source": []
  },
  {
   "cell_type": "code",
   "execution_count": 4,
   "metadata": {},
   "outputs": [],
   "source": [
    "from ics import Calendar, Event\n",
    "import datetime\n",
    "\n",
    "name_dict = {\n",
    "    'Johanne': 659,\n",
    "    'Mathias': 658,\n",
    "    'Søren': 657,\n",
    "    'Andreas': 656,\n",
    "    'Ema': 655,\n",
    "    'Mirei': 654,\n",
    "    'Sofie': 653,\n",
    "    'Markus': 652,\n",
    "    'Anso': 651,\n",
    "    'Malou': 650,\n",
    "    'Matilde': 649,\n",
    "    'Asger': 649 \n",
    "}\n",
    "\n",
    "start_time = datetime.datetime(2025, 2, 24, 0, 0)\n",
    "end_time = datetime.datetime(2025, 3, 1, 23, 59)\n",
    "rooms = list(name_dict.values())\n",
    "names = list(name_dict.keys())\n",
    "\n",
    "week = 1\n",
    "event_start = start_time\n",
    "event_end = end_time\n",
    "calendar = Calendar()\n",
    "oven_cleaner_idx = 0  # Store the last oven cleaner assignment\n",
    "\n",
    "oven_cleaner = 0  # Initialize oven_cleaner to avoid referencing before assignment\n",
    "\n",
    "while week < 21:\n",
    "    person_1 = week % len(rooms)\n",
    "    person_2 = (week + 6) % len(rooms)\n",
    "\n",
    "    # Assign oven cleaner only on odd weeks\n",
    "    if week % 2 == 1:\n",
    "        oven_cleaner = (oven_cleaner_idx + 10) % len(rooms)  # Only update every second week\n",
    "        oven_cleaner_idx += 1\n",
    "\n",
    "    the_description = f'Main cleaner: {names[person_1]}, Secondary cleaner: {names[person_2]}, Oven cleaner: {names[oven_cleaner]}'\n",
    "\n",
    "    event_start = start_time + datetime.timedelta(weeks=week)\n",
    "    event_end = end_time + datetime.timedelta(weeks=week)\n",
    "    event = Event()\n",
    "    event.name = \"Weekly cleaning team\"\n",
    "    event.description = the_description\n",
    "    event.begin = event_start\n",
    "    event.end = event_end\n",
    "\n",
    "    calendar.events.add(event)\n",
    "    week += 1  # Increment normally, but oven cleaner only updates every second time\n",
    "\n",
    "ics_filename = \"weekly_events.ics\"\n",
    "with open(ics_filename, 'w') as f:\n",
    "    f.writelines(calendar)\n"
   ]
  },
  {
   "cell_type": "code",
   "execution_count": 5,
   "metadata": {},
   "outputs": [
    {
     "data": {
      "text/plain": [
       "{'Johanne': 659,\n",
       " 'Mathias': 658,\n",
       " 'Søren': 657,\n",
       " 'Andreas': 656,\n",
       " 'Ema': 655,\n",
       " 'Mirei': 654,\n",
       " 'Sofie': 653,\n",
       " 'Markus': 652,\n",
       " 'Anso': 651,\n",
       " 'Malou': 650,\n",
       " 'Matilde': 649,\n",
       " 'Asger': 649}"
      ]
     },
     "execution_count": 5,
     "metadata": {},
     "output_type": "execute_result"
    }
   ],
   "source": [
    "name_dict"
   ]
  },
  {
   "cell_type": "code",
   "execution_count": null,
   "metadata": {},
   "outputs": [],
   "source": []
  }
 ],
 "metadata": {
  "kernelspec": {
   "display_name": "Python 3",
   "language": "python",
   "name": "python3"
  },
  "language_info": {
   "codemirror_mode": {
    "name": "ipython",
    "version": 3
   },
   "file_extension": ".py",
   "mimetype": "text/x-python",
   "name": "python",
   "nbconvert_exporter": "python",
   "pygments_lexer": "ipython3",
   "version": "3.10.2"
  }
 },
 "nbformat": 4,
 "nbformat_minor": 2
}
